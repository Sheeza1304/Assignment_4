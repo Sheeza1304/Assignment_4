{
  "cells": [
    {
      "cell_type": "markdown",
      "metadata": {
        "id": "view-in-github",
        "colab_type": "text"
      },
      "source": [
        "<a href=\"https://colab.research.google.com/github/Sheeza1304/Assignment_4/blob/main/02_intermediate_Control_Flow_for_Console.ipynb\" target=\"_parent\"><img src=\"https://colab.research.google.com/assets/colab-badge.svg\" alt=\"Open In Colab\"/></a>"
      ]
    },
    {
      "cell_type": "code",
      "execution_count": null,
      "metadata": {
        "id": "D2-DASYbnSJ4"
      },
      "outputs": [],
      "source": []
    },
    {
      "cell_type": "markdown",
      "metadata": {
        "id": "QqD-ogN9n0Pg"
      },
      "source": [
        "#01_high_low_game"
      ]
    },
    {
      "cell_type": "code",
      "execution_count": null,
      "metadata": {
        "colab": {
          "background_save": true,
          "base_uri": "https://localhost:8080/"
        },
        "id": "ga0H1PRyoCzB",
        "outputId": "5148eef6-e050-4a6d-944a-ccb10179cc80"
      },
      "outputs": [
        {
          "name": "stdout",
          "output_type": "stream",
          "text": [
            "high low game\n",
            "round 1\n",
            "round 2\n",
            "round 3\n",
            "round 4\n",
            "round 5\n",
            "high low game\n",
            "welcome to the high low game\n",
            "round 1\n",
            "your number is 45\n"
          ]
        }
      ],
      "source": [
        "import random\n",
        "print(\"high low game\")\n",
        "\n",
        "round = 5\n",
        "def main():\n",
        "  print(\"welcome to the high low game\")\n",
        "your_score = 0\n",
        "\n",
        "for i in range(round):\n",
        "  print(f\"round {i+1}\")\n",
        "import random\n",
        "print(\"high low game\")\n",
        "\n",
        "round = 5\n",
        "def main():\n",
        "  print(\"welcome to the high low game\")\n",
        "  your_score = 0\n",
        "\n",
        "  for i in range(round):\n",
        "    print(f\"round {i+1}\")\n",
        "\n",
        "    computer_number: int = random.randint(1,100)\n",
        "    your_number: int = random.randint(1,100)\n",
        "    print(\"your number is\", your_number)\n",
        "\n",
        "    choice: str = input(\"higher or lower\")\n",
        "    higher_and_correct: bool = choice == \"higher\" and your_number > computer_number\n",
        "    lower_and_correct: bool = choice == \"lower\" and your_number < computer_number\n",
        "\n",
        "    if higher_and_correct or lower_and_correct:\n",
        "      print(\"You were right! The computer's number was\",computer_number)\n",
        "      your_score += 1\n",
        "    else:\n",
        "      print(\"You were wrong.The computer's number was\",computer_number)\n",
        "\n",
        "    print(\"Your score is now\",your_score)\n",
        "    print()\n",
        "\n",
        "  print(\"Thanks for playing\")\n",
        "if __name__ == \"__main__\":\n",
        "  main()\n"
      ]
    },
    {
      "cell_type": "markdown",
      "source": [
        "#02_plantery_weight_calculator"
      ],
      "metadata": {
        "id": "8L1gdnGidMsh"
      }
    },
    {
      "cell_type": "code",
      "source": [
        "def main():\n",
        "  print(\"welcome to the plantery weight calculator\")\n",
        "\n",
        "  earth_weight = float(input(\"Enter your weight on earth: \"))\n",
        "  gravity_ratio = {\n",
        "      \"Mercury\":0.38,\n",
        "      \"Venus\":0.91,\n",
        "      \"Mars\":0.38,\n",
        "      \"Jupiter\":2.34,\n",
        "      \"Saturn\":1.06,\n",
        "      \"Uranus\":0.92,\n",
        "      \"Neptune\":1.19,\n",
        "  }\n",
        "  print(\"\\n select a planet\")\n",
        "  for planet in gravity_ratio:\n",
        "    print(f'-{planet}')\n",
        "\n",
        "  planet_choice = input(\"Enter the name of the planet:\").title()\n",
        "\n",
        "  if planet_choice in gravity_ratio:\n",
        "    new_weight = earth_weight * gravity_ratio[planet_choice]\n",
        "    print(f\"Your weight on {planet_choice} is {new_weight:.2f}kg\")\n",
        "  else:\n",
        "    print(\"Invalid planet choice\")\n",
        "\n",
        "  if __name__ == \"__main__\":\n",
        "    main()"
      ],
      "metadata": {
        "id": "vyTLokLhdVoc"
      },
      "execution_count": 9,
      "outputs": []
    },
    {
      "cell_type": "markdown",
      "source": [
        "#03_list_and_dicts"
      ],
      "metadata": {
        "id": "Hmq_mMuKgEOA"
      }
    },
    {
      "source": [
        "my_list = ['apple', 'mango', 'orange', 'strawberry']  # Changed the list\n",
        "\n",
        "\n",
        "def main():\n",
        "    \"\"\"Return the element at the specified index, or an error message if out of range.\"\"\"\n",
        "\n",
        "    def access_element(my_list, index):\n",
        "        if 0 <= index < len(my_list):\n",
        "            return f'Element at index {index}: {my_list[index]}'\n",
        "        return \"Index out of range\"\n",
        "\n",
        "    def modify_element(my_list, index, new_value):\n",
        "        if 0 <= index < len(my_list):\n",
        "            old_value = my_list[index]\n",
        "            my_list[index] = new_value\n",
        "            return f\"Element at index {index} modified from {old_value} to {new_value}\"\n",
        "        return \"Index out of range\"\n",
        "\n",
        "    def slice_list(my_list, start, end):\n",
        "        if 0 <= start < len(my_list) and 0 <= end <= len(my_list):\n",
        "            return my_list[start:end]\n",
        "        return \"Invalid slice range\"\n",
        "\n",
        "    def list_game():\n",
        "        print(\"\\n welcome to the list game\")\n",
        "\n",
        "        my_list = ['apple', 'mango', 'orange', 'strawberry']\n",
        "\n",
        "        while True:\n",
        "            print(\"Current list\", my_list)\n",
        "\n",
        "            print(\"select an operation\")\n",
        "            print(\"1. Access Element by Index\")\n",
        "            print(\"2. Modify Element by Index\")\n",
        "            print(\"3. Slice List\")\n",
        "            print(\"4. Quit\")\n",
        "\n",
        "            choice = input(\"Enter your choice (1-4): \")\n",
        "\n",
        "            if choice == \"1\":\n",
        "                index = int(input(\"Enter the index: \"))\n",
        "                result = access_element(my_list, index)\n",
        "                print(result)\n",
        "\n",
        "            elif choice == \"2\":\n",
        "                index = int(input(\"Enter the index:\"))\n",
        "                new_value = input(\"Enter the new value:\")\n",
        "                result = modify_element(my_list, index, new_value)\n",
        "                print(result)\n",
        "            elif choice == \"3\":\n",
        "                start = int(input(\"Enter the start index:\"))\n",
        "                end = int(input(\"Enter the end index:\"))\n",
        "                result = slice_list(my_list, start, end)\n",
        "                print(result)\n",
        "            elif choice == \"4\":\n",
        "                print(\"Thanks for playing\")\n",
        "                break\n",
        "            else:\n",
        "                print(\"Invalid choice\")\n",
        "    list_game()\n",
        "\n",
        "\n",
        "if __name__ == \"__main__\":\n",
        "    main()"
      ],
      "cell_type": "code",
      "metadata": {
        "colab": {
          "base_uri": "https://localhost:8080/"
        },
        "id": "1cNFGJwJnXWG",
        "outputId": "fbe7b162-089b-43eb-bbf5-f79e5bf96d8d"
      },
      "execution_count": null,
      "outputs": [
        {
          "name": "stdout",
          "output_type": "stream",
          "text": [
            "\n",
            " welcome to the list game\n",
            "Current list ['apple', 'mango', 'orange', 'strawberry']\n",
            "select an operation\n",
            "1. Access Element by Index\n",
            "2. Modify Element by Index\n",
            "3. Slice List\n",
            "4. Quit\n",
            "Enter your choice (1-4): 1\n",
            "Enter the index: 2\n",
            "Element at index 2: orange\n",
            "Current list ['apple', 'mango', 'orange', 'strawberry']\n",
            "select an operation\n",
            "1. Access Element by Index\n",
            "2. Modify Element by Index\n",
            "3. Slice List\n",
            "4. Quit\n",
            "Enter your choice (1-4): 3\n"
          ]
        }
      ]
    }
  ],
  "metadata": {
    "colab": {
      "provenance": [],
      "authorship_tag": "ABX9TyN+T2xnlRb7eaxtCOhkG14X",
      "include_colab_link": true
    },
    "kernelspec": {
      "display_name": "Python 3",
      "name": "python3"
    },
    "language_info": {
      "name": "python"
    }
  },
  "nbformat": 4,
  "nbformat_minor": 0
}