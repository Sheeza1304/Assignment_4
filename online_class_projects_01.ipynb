{
  "nbformat": 4,
  "nbformat_minor": 0,
  "metadata": {
    "colab": {
      "provenance": [],
      "authorship_tag": "ABX9TyPiNuo6N6M8Sh55294xz2R0",
      "include_colab_link": true
    },
    "kernelspec": {
      "name": "python3",
      "display_name": "Python 3"
    },
    "language_info": {
      "name": "python"
    }
  },
  "cells": [
    {
      "cell_type": "markdown",
      "metadata": {
        "id": "view-in-github",
        "colab_type": "text"
      },
      "source": [
        "<a href=\"https://colab.research.google.com/github/Sheeza1304/Assignment_4/blob/main/online_class_projects_01.ipynb\" target=\"_parent\"><img src=\"https://colab.research.google.com/assets/colab-badge.svg\" alt=\"Open In Colab\"/></a>"
      ]
    },
    {
      "cell_type": "code",
      "execution_count": null,
      "metadata": {
        "id": "glS8qpFkfSg3"
      },
      "outputs": [],
      "source": []
    },
    {
      "cell_type": "markdown",
      "source": [
        "00_joke_bot"
      ],
      "metadata": {
        "id": "KmpJFA6DfkSV"
      }
    },
    {
      "source": [
        "PROMPT: str = \"what do you want?\"\n",
        "JOKE: str = \"why did the scarecrow win an award? \\n Because he was outstanding in his field!\"\n",
        "SORRY: str = \"sorry i only tell jokes\"\n",
        "\n",
        "def main():\n",
        "  user_input_value = input(PROMPT)\n",
        "  user_input_value = user_input_value.strip().lower()\n",
        "  if \"jokes\" in user_input_value:\n",
        "    print(JOKE)\n",
        "  else:\n",
        "    print(SORRY)\n",
        "\n",
        "if __name__ == \"__main__\":\n",
        "  main()"
      ],
      "cell_type": "code",
      "metadata": {
        "colab": {
          "base_uri": "https://localhost:8080/"
        },
        "id": "xRg-e3vNid4r",
        "outputId": "098c899a-83ae-4834-f24d-1003195c52b7"
      },
      "execution_count": 5,
      "outputs": [
        {
          "output_type": "stream",
          "name": "stdout",
          "text": [
            "what do you want?joke\n",
            "sorry i only tell jokes\n"
          ]
        }
      ]
    },
    {
      "cell_type": "markdown",
      "source": [
        "#01_double_it"
      ],
      "metadata": {
        "id": "01NEVbrJiqP_"
      }
    },
    {
      "cell_type": "code",
      "source": [
        "def main():\n",
        "  user_value = int(input(\"Enter a number: \"))\n",
        "  while user_value < 100:\n",
        "    user_value = user_value * 2\n",
        "    print(user_value)\n",
        "\n",
        "if __name__==\"__main__\":\n",
        "  main()\n",
        "\n"
      ],
      "metadata": {
        "id": "w2SZull6jN8-"
      },
      "execution_count": null,
      "outputs": []
    },
    {
      "cell_type": "markdown",
      "source": [
        "#02_liftoff"
      ],
      "metadata": {
        "id": "ZNufNX2djarS"
      }
    },
    {
      "cell_type": "code",
      "source": [
        "def main():\n",
        "  for i in range(10,0,-1):\n",
        "    print(i,end=\"\")\n",
        "    print(\"liftoff\")\n",
        "\n",
        "if __name__ == \"__main__\":\n",
        "  main()\n",
        "\n"
      ],
      "metadata": {
        "id": "JfiuSN3tjhjf"
      },
      "execution_count": null,
      "outputs": []
    },
    {
      "cell_type": "markdown",
      "source": [
        "#03_guess_my_number"
      ],
      "metadata": {
        "id": "hSZN9J14jyh5"
      }
    },
    {
      "cell_type": "code",
      "source": [
        "import random\n",
        "\n",
        "\n",
        "def main():\n",
        "    secret_number = random.randint(1, 100)\n",
        "    print(\"Guess a number between 1 and 100\")\n",
        "\n",
        "    guess = int(input(\"Enter a guess:\"))\n",
        "    while guess != secret_number:\n",
        "        if guess < secret_number:\n",
        "            print(\"Your guess is to low.\")\n",
        "        else:\n",
        "            print(\"Your guess is to high.\")\n",
        "        guess = int(input(\"Enter a guess:\"))\n",
        "    print(\"You got it!\")\n",
        "\n",
        "\n",
        "if __name__ == \"__main__\":\n",
        "    main()\n"
      ],
      "metadata": {
        "id": "yHZbMphej8D-"
      },
      "execution_count": null,
      "outputs": []
    },
    {
      "cell_type": "markdown",
      "source": [
        "#04_random_number"
      ],
      "metadata": {
        "id": "C3BaEkLakNEh"
      }
    },
    {
      "cell_type": "code",
      "source": [
        "import random\n",
        "def main():\n",
        "  for i in range(10):\n",
        "    print(random.randint(1,100), end =\"\")\n",
        "\n",
        "if __name__ == \"__main__\":\n",
        "  main()\n"
      ],
      "metadata": {
        "id": "4Cfrl7JFkTpJ"
      },
      "execution_count": null,
      "outputs": []
    }
  ]
}