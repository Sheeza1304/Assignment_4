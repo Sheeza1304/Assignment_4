{
  "nbformat": 4,
  "nbformat_minor": 0,
  "metadata": {
    "colab": {
      "provenance": [],
      "authorship_tag": "ABX9TyOt8xvbMJXuKePOR6epqz8a",
      "include_colab_link": true
    },
    "kernelspec": {
      "name": "python3",
      "display_name": "Python 3"
    },
    "language_info": {
      "name": "python"
    }
  },
  "cells": [
    {
      "cell_type": "markdown",
      "metadata": {
        "id": "view-in-github",
        "colab_type": "text"
      },
      "source": [
        "<a href=\"https://colab.research.google.com/github/Sheeza1304/Assignment_4/blob/main/02_list.ipynb\" target=\"_parent\"><img src=\"https://colab.research.google.com/assets/colab-badge.svg\" alt=\"Open In Colab\"/></a>"
      ]
    },
    {
      "cell_type": "code",
      "execution_count": null,
      "metadata": {
        "id": "XRfZuWisn6nt"
      },
      "outputs": [],
      "source": []
    },
    {
      "cell_type": "markdown",
      "source": [
        "# 01_Add_many_numbers"
      ],
      "metadata": {
        "id": "2bjNUYHZn_yr"
      }
    },
    {
      "cell_type": "code",
      "source": [
        "def add_many_numbers(numbers)-> int:\n",
        "\n",
        "  total_so_far:int = 0\n",
        "  for number in numbers:\n",
        "    total_so_far +=number\n",
        "\n",
        "  return total_so_far\n",
        "\n",
        "def main():\n",
        "  numbers: list[int] = [6,7,8,9,10]\n",
        "  sum_of_numbers: int = add_many_numbers(numbers)\n",
        "def add_many_numbers(numbers)-> int:\n",
        "\n",
        "  total_so_far:int = 0\n",
        "  for number in numbers:\n",
        "    total_so_far +=number\n",
        "\n",
        "  return total_so_far\n",
        "\n",
        "def main():\n",
        "  numbers: list[int] = [6,7,8,9,10]\n",
        "  sum_of_numbers: int = add_many_numbers(numbers)\n",
        "  print(f\"The sum of the numbers is {sum_of_numbers}\")\n",
        "\n",
        "if __name__ == '__main__':\n",
        "  main()"
      ],
      "metadata": {
        "colab": {
          "base_uri": "https://localhost:8080/"
        },
        "id": "pzLFThdDoM3P",
        "outputId": "14afa4c6-3db3-4505-fae8-a1309797c74c"
      },
      "execution_count": null,
      "outputs": [
        {
          "output_type": "stream",
          "name": "stdout",
          "text": [
            "The sum of the numbers is 40\n"
          ]
        }
      ]
    },
    {
      "cell_type": "markdown",
      "source": [
        "# 02_double_list"
      ],
      "metadata": {
        "id": "u2qmCL2sqO-U"
      }
    },
    {
      "cell_type": "code",
      "source": [
        "def main():\n",
        "  numbers: list[int] = [5,6,7,8,9]\n",
        "\n",
        "  for i in range(len(numbers)):\n",
        "    elem_at_index = numbers[i]\n",
        "    numbers[i] = elem_at_index * 3\n",
        "\n",
        "def main():\n",
        "  numbers: list[int] = [5,6,7,8,9]\n",
        "\n",
        "  for i in range(len(numbers)):\n",
        "    elem_at_index = numbers[i]\n",
        "    numbers[i] = elem_at_index * 3\n",
        "\n",
        "    print(numbers)\n",
        "\n",
        "if __name__ == \"__main__\":\n",
        "  main()"
      ],
      "metadata": {
        "colab": {
          "base_uri": "https://localhost:8080/"
        },
        "id": "6EHuOKaeqUP7",
        "outputId": "14ee98b5-dffa-43c7-92c1-ab98b8cd25df"
      },
      "execution_count": null,
      "outputs": [
        {
          "output_type": "stream",
          "name": "stdout",
          "text": [
            "[15, 6, 7, 8, 9]\n",
            "[15, 18, 7, 8, 9]\n",
            "[15, 18, 21, 8, 9]\n",
            "[15, 18, 21, 24, 9]\n",
            "[15, 18, 21, 24, 27]\n"
          ]
        }
      ]
    },
    {
      "cell_type": "markdown",
      "source": [
        "# 04_flowing_with_data_structure"
      ],
      "metadata": {
        "id": "AjjX-75UV3iz"
      }
    },
    {
      "cell_type": "code",
      "source": [
        "def add_three_copies(list,data):\n",
        "  for i in range(3):\n",
        "    list.append(data)\n",
        "\n",
        "def main():\n",
        "  message = input(\"Enter a message to copy. \")\n",
        "  list = []\n",
        "  print(\"Before list:,list \")\n",
        "  add_three_copies(list,message)\n",
        "def add_three_copies(list,data):\n",
        "  for i in range(3):\n",
        "    list.append(data)\n",
        "\n",
        "def main():\n",
        "  message = input(\"Enter a message to copy. \")\n",
        "  list = []\n",
        "  print(\"Before list:,list \")\n",
        "  add_three_copies(list,message)\n",
        "  print(\"After list: \",list)\n",
        "\n",
        "if __name__ == \"__main__\":\n",
        "  main()"
      ],
      "metadata": {
        "id": "aTAlxle5WDnw"
      },
      "execution_count": null,
      "outputs": []
    },
    {
      "cell_type": "markdown",
      "source": [
        "# 05_Get_first_element"
      ],
      "metadata": {
        "id": "iFuK-yCPXaXm"
      }
    },
    {
      "cell_type": "code",
      "source": [
        "def get_first_element():\n",
        "  print(list[0])\n",
        "\n",
        "def get_list():\n",
        "  list = []\n",
        "  element = input(\"Enter an element.\")\n",
        "  while element != \"\":\n",
        "    list.append(element)\n",
        "    element = input(\"Enter an element\")\n",
        "def get_first_element(input_list):\n",
        "  print(input_list[0])\n",
        "\n",
        "def get_list():\n",
        "  list_elements = []\n",
        "  element = input(\"Enter an element.\")\n",
        "  while element != \"\":\n",
        "    list_elements.append(element)\n",
        "    element = input(\"Enter an element\")\n",
        "  return list_elements\n",
        "\n",
        "def main():\n",
        "  my_list = get_list()\n",
        "  get_first_element(my_list)\n",
        "\n",
        "if __name__ == \"__main__\":\n",
        "  main()\n"
      ],
      "metadata": {
        "id": "ulkZyFTzXior"
      },
      "execution_count": null,
      "outputs": []
    },
    {
      "cell_type": "markdown",
      "source": [
        "# 06_Get_last_element"
      ],
      "metadata": {
        "id": "ODjMwx8wZwEN"
      }
    },
    {
      "cell_type": "code",
      "source": [
        "def get_last_element():\n",
        "  print(list[-1])\n",
        "\n",
        "  def get_list():\n",
        "    list = []\n",
        "    element = input(\"Enter an element.\")\n",
        "    while element != \"\":\n",
        "      list.append(element)\n",
        "      element = input(\"Enter an element. \")\n",
        "      return list\n",
        "\n",
        "    def main():\n",
        "      list = get_list()\n",
        "      get_last_element(list)\n",
        "\n",
        "if__name__ == \"__main__\":\n",
        " main()\n"
      ],
      "metadata": {
        "id": "zGxNtqXYZ12m"
      },
      "execution_count": null,
      "outputs": []
    },
    {
      "cell_type": "markdown",
      "source": [
        "# 07_Get_list"
      ],
      "metadata": {
        "id": "bYUtPPu4dN_j"
      }
    },
    {
      "cell_type": "code",
      "source": [
        "def main():\n",
        "  list = []\n",
        "  val = input(\"Enter a value to add the list.\")\n",
        "  while val:\n",
        "    list.append(val)\n",
        "    val = input(\"Enter a value to add the list. \")\n",
        "    print(list)\n",
        "\n",
        "if__name__ == \"__main__\":\n",
        "  main()"
      ],
      "metadata": {
        "id": "K8nXIKTAdW8O"
      },
      "execution_count": null,
      "outputs": []
    },
    {
      "cell_type": "markdown",
      "source": [
        "# 08_shorten"
      ],
      "metadata": {
        "id": "3SQktA8Vebqx"
      }
    },
    {
      "cell_type": "code",
      "source": [
        "max_length:int = 3\n",
        "def shorten(list):\n",
        "  while len(list) > max_length:\n",
        "    last_element = list.pop\n",
        "    print(last_element)\n",
        "\n",
        "  def get_list()\n",
        "  list = []\n",
        "  element = input(\"Enter an element: \")\n",
        "  while element != \"\":\n",
        "    list.append(element)\n",
        "    element = input(\"Enter an element: \")\n",
        "    return list\n",
        "\n",
        "    def main():\n",
        "      list = get_list()\n",
        "      shorten(list)\n",
        "\n",
        "if__name__ == \"__main__\":\n",
        "  main()"
      ],
      "metadata": {
        "id": "Z8zJYmp5eh-D"
      },
      "execution_count": null,
      "outputs": []
    }
  ]
}