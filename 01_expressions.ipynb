{
  "nbformat": 4,
  "nbformat_minor": 0,
  "metadata": {
    "colab": {
      "provenance": [],
      "authorship_tag": "ABX9TyPqZskPMffYlBhyC7mJxnjH",
      "include_colab_link": true
    },
    "kernelspec": {
      "name": "python3",
      "display_name": "Python 3"
    },
    "language_info": {
      "name": "python"
    }
  },
  "cells": [
    {
      "cell_type": "markdown",
      "metadata": {
        "id": "view-in-github",
        "colab_type": "text"
      },
      "source": [
        "<a href=\"https://colab.research.google.com/github/Sheeza1304/Assignment_4/blob/main/01_expressions.ipynb\" target=\"_parent\"><img src=\"https://colab.research.google.com/assets/colab-badge.svg\" alt=\"Open In Colab\"/></a>"
      ]
    },
    {
      "cell_type": "markdown",
      "source": [
        "#01_dicesimulator"
      ],
      "metadata": {
        "id": "-O5fCCrtTn0E"
      }
    },
    {
      "cell_type": "code",
      "source": [
        "import random\n",
        "def roll_dice():\n",
        "  die1:int = random.randint(1,6)\n",
        "  die2:int = random.randint(1,6)\n",
        "  total:int = die1 + die2\n",
        "  print(f\"Total of two dice: {total}\")\n",
        "\n",
        "def main():\n",
        "  die1:int = 10\n",
        "  print(\"die1 in main() start as :\" +str(die1))\n",
        "  roll_dice\n",
        "  roll_dice\n",
        "import random\n",
        "def roll_dice():\n",
        "  die1:int = random.randint(1,6)\n",
        "  die2:int = random.randint(1,6)\n",
        "  total:int = die1 + die2\n",
        "  print(f\"Total of two dice: {total}\")\n",
        "\n",
        "def main():\n",
        "  die1:int = 10\n",
        "  print(\"die1 in main() start as :\" +str(die1))\n",
        "  roll_dice()\n",
        "  roll_dice()\n",
        "  roll_dice()\n",
        "  print(\"die1 in main() is: \" +str(die1))\n",
        "if __name__ == \"__main__\":\n",
        "    main()"
      ],
      "metadata": {
        "colab": {
          "base_uri": "https://localhost:8080/"
        },
        "id": "cpCB4ieLY8LQ",
        "outputId": "fb50c773-c2a4-4ba2-a575-fac0cd957e39"
      },
      "execution_count": 9,
      "outputs": [
        {
          "output_type": "stream",
          "name": "stdout",
          "text": [
            "die1 in main() start as :10\n",
            "Total of two dice: 5\n",
            "Total of two dice: 7\n",
            "Total of two dice: 7\n",
            "die1 in main() is: 10\n"
          ]
        }
      ]
    },
    {
      "cell_type": "markdown",
      "source": [
        "# 02_e=mc2"
      ],
      "metadata": {
        "id": "D-jt1NTGbVVD"
      }
    },
    {
      "cell_type": "code",
      "source": [
        "def energy():\n",
        "  c:float =299792458\n",
        "  m:float =float(input(\"Enter kilos of mass: \"))\n",
        "  print(\"e = m*c^2\")\n",
        "  print(\"Mass =\" + str(m) + \"kg\")\n",
        "def energy():\n",
        "  c:float =299792458\n",
        "  m:float =float(input(\"Enter kilos of mass: \"))\n",
        "  print(\"e = m*c^2\")\n",
        "  print(\"Mass =\" + str(m) + \"kg\")\n",
        "  print(\"c =\" + str(c) + \"m/s\")\n",
        "  print(\"e =\" + str(float(m* c ** 2)) + \"jules\")\n",
        "if __name__ == \"__main__\":\n",
        "  energy()"
      ],
      "metadata": {
        "colab": {
          "base_uri": "https://localhost:8080/"
        },
        "id": "4_IoZm6Ebb6C",
        "outputId": "66180e84-f676-420e-a014-7ffd18372d6d"
      },
      "execution_count": 11,
      "outputs": [
        {
          "output_type": "stream",
          "name": "stdout",
          "text": [
            "Enter kilos of mass: 8\n",
            "e = m*c^2\n",
            "Mass =8.0kg\n",
            "c =299792458m/s\n",
            "e =7.190041429894541e+17jules\n"
          ]
        }
      ]
    },
    {
      "cell_type": "markdown",
      "source": [
        "# 03_feet_to_inches"
      ],
      "metadata": {
        "id": "PY7YWOw6eq3R"
      }
    },
    {
      "cell_type": "code",
      "source": [
        "\n",
        "\n",
        "inch: int = 12\n",
        "def foot():\n",
        "  feet:int = int(input(\"Enter your feet and and convert into inches. \"))\n",
        "  print(f\"There are {inch * feet} inches in {feet} feet.\")\n",
        "if __name__ == \"__main__\":\n",
        "  foot()"
      ],
      "metadata": {
        "colab": {
          "base_uri": "https://localhost:8080/"
        },
        "id": "0cKS78aJe2i4",
        "outputId": "0807c299-94d9-4e63-88e7-a66e595f36f5"
      },
      "execution_count": 15,
      "outputs": [
        {
          "output_type": "stream",
          "name": "stdout",
          "text": [
            "Enter your feet and and convert into inches. 9\n",
            "There are 108 inches in 9 feet.\n"
          ]
        }
      ]
    },
    {
      "cell_type": "markdown",
      "source": [
        "# 04_pythongoran_theorem"
      ],
      "metadata": {
        "id": "97L8MOQfgaLt"
      }
    },
    {
      "cell_type": "code",
      "source": [
        "import math\n",
        "def pythagoras():\n",
        "  ab:float = float(input(\"Enter the length of the side ab: \"))\n",
        "  ac:float = float(input(\"Enter the length of the side ac: \"))\n",
        "  bc:float =math.sqrt(ab**2 + ac**2)\n",
        "import math\n",
        "def pythagoras():\n",
        "  ab:float = float(input(\"Enter the length of the side ab: \"))\n",
        "  ac:float = float(input(\"Enter the length of the side ac: \"))\n",
        "  bc:float =math.sqrt(ab**2 + ac**2)\n",
        "  print(f\"The length of the side bc is: {bc}\")\n",
        "\n",
        "if __name__ == \"__main__\":\n",
        "  pythagoras()\n"
      ],
      "metadata": {
        "colab": {
          "base_uri": "https://localhost:8080/"
        },
        "id": "N37q5r2hgn_a",
        "outputId": "ea7ea7dd-bd46-4e88-b776-c70997c08e03"
      },
      "execution_count": 17,
      "outputs": [
        {
          "output_type": "stream",
          "name": "stdout",
          "text": [
            "Enter the length of the side ab: 8\n",
            "Enter the length of the side ac: 8\n",
            "The length of the side bc is: 11.313708498984761\n"
          ]
        }
      ]
    },
    {
      "cell_type": "markdown",
      "source": [
        "# 05_remainder"
      ],
      "metadata": {
        "id": "baH_rzBQiWPd"
      }
    },
    {
      "cell_type": "code",
      "source": [
        "def reminder():\n",
        "  num1:int = int(input(\"Enter a number to be divided: \"))\n",
        "  num2:int = int(input(\"Enter a number to divided by: \"))\n",
        "  quotient:int = num1 // num2\n",
        "def reminder():\n",
        "  num1:int = int(input(\"Enter a number to be divided: \"))\n",
        "  num2:int = int(input(\"Enter a number to divided by: \"))\n",
        "  quotient:float = num1 // num2\n",
        "  remainder:int = num1 % num2\n",
        "  print(f\"{num1} is divided by {num2} is {quotient} with the {remainder}\")\n",
        "if __name__ == \"__main__\":\n",
        "  reminder()"
      ],
      "metadata": {
        "colab": {
          "base_uri": "https://localhost:8080/"
        },
        "id": "RD96oQbR0XKj",
        "outputId": "65680a1b-40d2-4947-b4c4-52c847614bc6"
      },
      "execution_count": 14,
      "outputs": [
        {
          "output_type": "stream",
          "name": "stdout",
          "text": [
            "Enter a number to be divided: 9\n",
            "Enter a number to divided by: 9\n",
            "9 is divided by 9 is 1 with the 0\n"
          ]
        }
      ]
    },
    {
      "cell_type": "markdown",
      "source": [
        "06_rolldice"
      ],
      "metadata": {
        "id": "j0OtyUOL2FX4"
      }
    },
    {
      "cell_type": "code",
      "source": [
        "import random\n",
        "num_side: int = 6\n",
        "def dice():\n",
        "  die1:int = random.randint(1,num_side)\n",
        "  die2:int = random.randint(1,num_side)\n",
        "  Total:int = die1 + die2\n",
        "  print(\"first die: \", die1)\n",
        "  print(\"second die: \",die2)\n",
        "import random\n",
        "num_side: int = 6\n",
        "def dice():\n",
        "  die1:int = random.randint(1,num_side)\n",
        "  die2:int = random.randint(1,num_side)\n",
        "  Total:int = die1 + die2\n",
        "  print(\"first die: \", die1)\n",
        "  print(\"second die: \",die2)\n",
        "  print(\"Total of two dice:\", Total)\n",
        "\n",
        "if __name__ == \"__main__\":\n",
        "  dice()"
      ],
      "metadata": {
        "colab": {
          "base_uri": "https://localhost:8080/"
        },
        "id": "WB7noQ9p2Ot1",
        "outputId": "7d84fb15-4e7d-4924-a3b5-a5c881aba977"
      },
      "execution_count": 6,
      "outputs": [
        {
          "output_type": "stream",
          "name": "stdout",
          "text": [
            "first die:  6\n",
            "second die:  1\n",
            "Total of two dice: 7\n"
          ]
        }
      ]
    },
    {
      "cell_type": "markdown",
      "source": [
        "# 06_seconds_in_year"
      ],
      "metadata": {
        "id": "N4F5gv_h3vnr"
      }
    },
    {
      "cell_type": "code",
      "source": [
        "Days_per_year:int = 365\n",
        "Hours_per_day:int = 24\n",
        "Min_per_hour:int = 60\n",
        "Sec_per_min:int = 60\n",
        "\n",
        "\n",
        "\n",
        "\n",
        "def cal():\n",
        "  print(f\"There are\" + str(Days_per_year * Hours_per_day * Min_per_hour * Sec_per_min) + \"seconds per year!\")\n",
        "\n",
        "if __name__ == '__main__':\n",
        "  cal()"
      ],
      "metadata": {
        "colab": {
          "base_uri": "https://localhost:8080/"
        },
        "id": "m0g_sesj3183",
        "outputId": "846ecac0-3cd6-43c9-933d-6b0602161e3c"
      },
      "execution_count": 10,
      "outputs": [
        {
          "output_type": "stream",
          "name": "stdout",
          "text": [
            "There are31536000seconds per year!\n"
          ]
        }
      ]
    },
    {
      "cell_type": "markdown",
      "source": [
        "# 07_tiny_mad_lib"
      ],
      "metadata": {
        "id": "aNQIgiBx5h96"
      }
    },
    {
      "cell_type": "code",
      "source": [
        "from os import tcsetpgrp\n",
        "\n",
        "def main():\n",
        "  adjective: str = (input(\"Enter an adjective:\"))\n",
        "  noun: str = str(input(\"Enter a noun: \"))\n",
        "  verb: str = str(input(\"Enter a verb: \"))\n",
        "  print(f\"SENTENCE_START\" + adjective +\" \" + noun + \" \" + verb+ \"!\")\n",
        "\n",
        "if __name__ == \"__main__\":\n",
        "  main()"
      ],
      "metadata": {
        "colab": {
          "base_uri": "https://localhost:8080/"
        },
        "id": "wWM5_-nN5rk0",
        "outputId": "b76ceedf-ea89-44ad-8c03-0d466158a60d"
      },
      "execution_count": null,
      "outputs": [
        {
          "name": "stdout",
          "output_type": "stream",
          "text": [
            "Enter a noun: pakistan\n"
          ]
        }
      ]
    }
  ]
}