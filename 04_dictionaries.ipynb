{
  "cells": [
    {
      "cell_type": "markdown",
      "metadata": {
        "id": "view-in-github",
        "colab_type": "text"
      },
      "source": [
        "<a href=\"https://colab.research.google.com/github/Sheeza1304/Assignment_4/blob/main/04_dictionaries.ipynb\" target=\"_parent\"><img src=\"https://colab.research.google.com/assets/colab-badge.svg\" alt=\"Open In Colab\"/></a>"
      ]
    },
    {
      "cell_type": "code",
      "execution_count": null,
      "metadata": {
        "id": "5dx8PMLGO-He"
      },
      "outputs": [],
      "source": []
    },
    {
      "cell_type": "markdown",
      "metadata": {
        "id": "QE0X2ss2PX1I"
      },
      "source": [
        "#00_count_numbers"
      ]
    },
    {
      "cell_type": "code",
      "execution_count": null,
      "metadata": {
        "id": "KxUC23jLScWu"
      },
      "outputs": [],
      "source": [
        "def count_numbers():\n",
        "    count_dict = {}\n",
        "\n",
        "    while True:\n",
        "        num = input(\"Enter a number (or Exit to quite): \")\n",
        "        if num.title() == 'Exit':\n",
        "            break\n",
        "        if num.isdigit():\n",
        "            num = int(num)\n",
        "            count_dict[num] = count_dict.get(num, 0) + 1\n",
        "        else:\n",
        "            print(\"Invalid input. please enter a number or 'Exit'.\")\n",
        "\n",
        "    return count_dict\n",
        "\n",
        "def display_counts(count_dict):\n",
        "    print(\"\\n Number Counts:\")\n",
        "    for key, value in count_dict.items():\n",
        "        print(f\"{key} appears {value} times\")\n",
        "\n",
        "if __name__ == \"__main__\":\n",
        "    counts = count_numbers()\n",
        "    display_counts(counts)"
      ]
    },
    {
      "cell_type": "code",
      "execution_count": null,
      "metadata": {
        "id": "XxwWyC5IURhl"
      },
      "outputs": [],
      "source": []
    },
    {
      "cell_type": "markdown",
      "metadata": {
        "id": "ZoQqerZOSp3z"
      },
      "source": [
        "#01_phonebook"
      ]
    },
    {
      "cell_type": "code",
      "execution_count": 1,
      "metadata": {
        "colab": {
          "base_uri": "https://localhost:8080/"
        },
        "id": "Zx-w21CmZaZv",
        "outputId": "d86c30c7-423e-4fd0-cb6a-4521af358beb"
      },
      "outputs": [
        {
          "output_type": "stream",
          "name": "stdout",
          "text": [
            "\n",
            " phonebook Menu:\n",
            "1. Add Contact\n",
            "2. Search Contact\n",
            "3. Delete Contact\n",
            "4. Display Contact\n",
            "5. Quit\n",
            "Enter your choice(1-5)1\n",
            "Enter contact name:sheeza\n",
            "Enter contact number:98790090\n",
            "sheeza add to the phonebook.\n",
            "\n",
            " phonebook Menu:\n",
            "1. Add Contact\n",
            "2. Search Contact\n",
            "3. Delete Contact\n",
            "4. Display Contact\n",
            "5. Quit\n",
            "Enter your choice(1-5)3\n",
            "Enter contact name to delete:sheeza\n",
            "sheeza deleted from the phonebook.\n",
            "\n",
            " phonebook Menu:\n",
            "1. Add Contact\n",
            "2. Search Contact\n",
            "3. Delete Contact\n",
            "4. Display Contact\n",
            "5. Quit\n",
            "Enter your choice(1-5)5\n",
            "quitting phonebook.\n"
          ]
        }
      ],
      "source": [
        "from os import name\n",
        "\n",
        "\n",
        "def add_contact(phonebook):\n",
        "    name = input(\"Enter contact name:\")\n",
        "    number = input(\"Enter contact number:\")\n",
        "\n",
        "    if name in phonebook:\n",
        "        print(f\"{name} already exist in the phonebook.\")\n",
        "    else:\n",
        "        phonebook[name] = number\n",
        "        print(f\"{name} add to the phonebook.\")\n",
        "\n",
        "\n",
        "def search_contact(phonebook):\n",
        "    name = input(\"Enter contact name to search:\")\n",
        "    if name in phonebook:\n",
        "        print(f\"{name}: {phonebook[name]}\")\n",
        "    else:\n",
        "        print(f\"{name} not found in the phonebook.\")\n",
        "\n",
        "\n",
        "def delete_contact(phonebook):\n",
        "    name = input(\"Enter contact name to delete:\")\n",
        "    if name in phonebook:\n",
        "        del phonebook[name]\n",
        "        print(f\"{name} deleted from the phonebook.\")\n",
        "    else:\n",
        "        print(f\"{name} not found in the phonebook.\")\n",
        "\n",
        "\n",
        "def display_contact(phonebook):\n",
        "    if phonebook:\n",
        "        print(\"\\n phonebook Contact list\")\n",
        "        for name, number in phonebook.items():\n",
        "            print(f\"{name}: {number}\")\n",
        "    else:\n",
        "        print(\"phonebook is empty.\")\n",
        "\n",
        "\n",
        "if __name__ == \"__main__\":\n",
        "    phonebook = {}\n",
        "\n",
        "    while True:\n",
        "        print(\"\\n phonebook Menu:\")\n",
        "        print(\"1. Add Contact\")\n",
        "        print(\"2. Search Contact\")\n",
        "        print(\"3. Delete Contact\")\n",
        "        print(\"4. Display Contact\")\n",
        "        print(\"5. Quit\")\n",
        "\n",
        "        choice = input(\"Enter your choice(1-5)\")\n",
        "        if choice == '1':\n",
        "            add_contact(phonebook)\n",
        "        elif choice == '2':\n",
        "            search_contact(phonebook)\n",
        "        elif choice == '3':\n",
        "            delete_contact(phonebook)\n",
        "        elif choice == '4':\n",
        "            display_contact(phonebook)\n",
        "        elif choice == '5':\n",
        "            print(\"quitting phonebook.\")\n",
        "            break\n",
        "        else:\n",
        "            print(\"Invalid choice\")"
      ]
    },
    {
      "cell_type": "markdown",
      "source": [
        "#02_pop_up_shop"
      ],
      "metadata": {
        "id": "21CtlEfmCAET"
      }
    },
    {
      "cell_type": "code",
      "source": [],
      "metadata": {
        "id": "FnEWyZlHEEpq"
      },
      "execution_count": null,
      "outputs": []
    },
    {
      "source": [
        "def calculate_total_price():\n",
        "  fruits_price = {\n",
        "      \"apple\":8.0,\n",
        "      \"strawberry\":15.0,\n",
        "      \"orange\":9.0,\n",
        "      \"mango\":10.0,\n",
        "      \"banana\":13.0\n",
        "  }\n",
        "  total_price=0\n",
        "  for fruit, fruit_price in fruits_price.items():\n",
        "    while True:\n",
        "      try:\n",
        "        quantity = int(input(f'How many {fruit} do you want?:'))\n",
        "        if quantity < 0:\n",
        "          print(\"Invalid input. please enter a non-negative number.\")\n",
        "          continue\n",
        "        total_price += fruit_price * quantity\n",
        "        break\n",
        "      except ValueError:\n",
        "          print(\"Invalid input. please enter a number.\")\n",
        "          return\n",
        "\n",
        "  print(f\"Total price: {total_price:.2f}\")\n",
        "\n",
        "if __name__ == \"__main__\":\n",
        "  calculate_total_price()"
      ],
      "cell_type": "code",
      "metadata": {
        "colab": {
          "base_uri": "https://localhost:8080/"
        },
        "id": "YoblEw1VFeZ3",
        "outputId": "4608312b-531c-42fa-ea10-980937601f3d"
      },
      "execution_count": 4,
      "outputs": [
        {
          "output_type": "stream",
          "name": "stdout",
          "text": [
            "How many apple do you want?:3\n",
            "How many strawberry do you want?:8\n",
            "How many orange do you want?:4\n",
            "How many mango do you want?:2\n",
            "How many banana do you want?:8\n",
            "Total price: 304.00\n"
          ]
        }
      ]
    },
    {
      "cell_type": "markdown",
      "source": [
        "#03_powerful_passwords"
      ],
      "metadata": {
        "id": "bEnCkXI_Fugm"
      }
    },
    {
      "source": [
        "import hashlib\n",
        "\n",
        "def hash_password(password):\n",
        "    return hashlib.sha256(password.encode()).hexdigest()\n",
        "\n",
        "stored_logins = {\n",
        "    \"bchds@90ep.com\": hash_password(\"passwordc56\"),\n",
        "    \"admin@jej.com\": hash_password(\"addmins\")\n",
        "}\n",
        "\n",
        "def login(email, password):\n",
        "    if email in stored_logins:\n",
        "        return stored_logins[email] == hash_password(password)\n",
        "    return False\n",
        "\n",
        "if __name__ == \"__main__\":\n",
        "    email = input(\"Enter your email:\")\n",
        "    password = input(\"Enter your password:\")\n",
        "\n",
        "    if login(email, password):\n",
        "        print(\"Login successful\")\n",
        "    else:\n",
        "        print(\"Invalid email or password.\")"
      ],
      "cell_type": "code",
      "metadata": {
        "id": "DHMtD5asIxtG"
      },
      "execution_count": null,
      "outputs": []
    }
  ],
  "metadata": {
    "colab": {
      "provenance": [],
      "authorship_tag": "ABX9TyPUGTL7qZMM5EIdbQPs7xol",
      "include_colab_link": true
    },
    "kernelspec": {
      "display_name": "Python 3",
      "name": "python3"
    },
    "language_info": {
      "name": "python"
    }
  },
  "nbformat": 4,
  "nbformat_minor": 0
}