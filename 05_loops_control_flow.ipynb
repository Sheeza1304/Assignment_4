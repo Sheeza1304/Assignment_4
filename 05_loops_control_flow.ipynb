{
  "cells": [
    {
      "cell_type": "markdown",
      "metadata": {
        "id": "view-in-github",
        "colab_type": "text"
      },
      "source": [
        "<a href=\"https://colab.research.google.com/github/Sheeza1304/Assignment_4/blob/main/05_loops_control_flow.ipynb\" target=\"_parent\"><img src=\"https://colab.research.google.com/assets/colab-badge.svg\" alt=\"Open In Colab\"/></a>"
      ]
    },
    {
      "cell_type": "code",
      "execution_count": null,
      "metadata": {
        "id": "UOWniEP6lTtp"
      },
      "outputs": [],
      "source": []
    },
    {
      "cell_type": "markdown",
      "metadata": {
        "id": "krtiD1h8l2T7"
      },
      "source": [
        "#00_guess_my_number"
      ]
    },
    {
      "cell_type": "code",
      "execution_count": null,
      "metadata": {
        "colab": {
          "base_uri": "https://localhost:8080/"
        },
        "id": "0uybwqJ8n2lY",
        "outputId": "c9be0d95-a027-44e1-b47e-0bffc23bfe1c"
      },
      "outputs": [
        {
          "name": "stdout",
          "output_type": "stream",
          "text": [
            "Guess a number between 1 and 100\n",
            "Enter a guess:50\n",
            "Your guess is to high.\n",
            "Enter a guess:4\n",
            "Your guess is to low.\n",
            "Enter a guess:78\n",
            "Your guess is to high.\n",
            "Enter a guess:99\n",
            "Your guess is to high.\n",
            "Enter a guess:100\n",
            "Your guess is to high.\n",
            "Enter a guess:71\n",
            "Your guess is to high.\n",
            "Enter a guess:55\n",
            "Your guess is to high.\n",
            "Enter a guess:50\n",
            "Your guess is to high.\n",
            "Enter a guess:45\n",
            "Your guess is to high.\n",
            "Enter a guess:40\n",
            "Your guess is to high.\n",
            "Enter a guess:39\n",
            "Your guess is to high.\n",
            "Enter a guess:35\n",
            "Your guess is to high.\n",
            "Enter a guess:34\n",
            "Your guess is to high.\n",
            "Enter a guess:35\n",
            "Your guess is to high.\n",
            "Enter a guess:30\n",
            "Your guess is to high.\n",
            "Enter a guess:20\n",
            "Your guess is to high.\n",
            "Enter a guess:10\n",
            "Your guess is to low.\n",
            "Enter a guess:11\n",
            "Your guess is to low.\n",
            "Enter a guess:12\n",
            "Your guess is to low.\n",
            "Enter a guess:13\n",
            "Your guess is to low.\n",
            "Enter a guess:15\n",
            "Your guess is to high.\n",
            "Enter a guess:14\n",
            "You got it!\n"
          ]
        }
      ],
      "source": [
        "import random\n",
        "\n",
        "\n",
        "def main():\n",
        "    secret_number = random.randint(1, 100)\n",
        "    print(\"Guess a number between 1 and 100\")\n",
        "\n",
        "    guess = int(input(\"Enter a guess:\"))\n",
        "    while guess != secret_number:\n",
        "        if guess < secret_number:\n",
        "            print(\"Your guess is to low.\")\n",
        "        else:\n",
        "            print(\"Your guess is to high.\")\n",
        "        guess = int(input(\"Enter a guess:\"))\n",
        "    print(\"You got it!\")\n",
        "\n",
        "\n",
        "if __name__ == \"__main__\":\n",
        "    main()"
      ]
    },
    {
      "cell_type": "markdown",
      "metadata": {
        "id": "2lQdqC5yoiZX"
      },
      "source": [
        "#01_fibonacci"
      ]
    },
    {
      "cell_type": "code",
      "execution_count": null,
      "metadata": {
        "colab": {
          "base_uri": "https://localhost:8080/"
        },
        "id": "nKqAIQpxoqLn",
        "outputId": "7e0bb856-4646-4f3a-863e-03be74c7d3c1"
      },
      "outputs": [
        {
          "name": "stdout",
          "output_type": "stream",
          "text": [
            "0 1123581321345589144233377610987"
          ]
        }
      ],
      "source": [
        "max_value = 1000\n",
        "\n",
        "max_value = 1000\n",
        "\n",
        "def main():\n",
        "  a,b = 0,1\n",
        "  print(a,b, end = \"\")\n",
        "\n",
        "  while True:\n",
        "    c= a+b\n",
        "    if c >= max_value:\n",
        "      break\n",
        "    print(c, end=\"\")\n",
        "    a,b = b,c\n",
        "\n",
        "\n",
        "if __name__ ==\"__main__\":\n",
        "  main()\n"
      ]
    },
    {
      "cell_type": "markdown",
      "metadata": {
        "id": "OpCw79xbqV2u"
      },
      "source": [
        "#03_print_events"
      ]
    },
    {
      "cell_type": "code",
      "execution_count": null,
      "metadata": {
        "colab": {
          "base_uri": "https://localhost:8080/"
        },
        "id": "FwGOjZ-Fq7yw",
        "outputId": "f33a3a67-0600-461d-b105-d789f020d221"
      },
      "outputs": [
        {
          "name": "stdout",
          "output_type": "stream",
          "text": [
            "0\n",
            "2\n",
            "4\n",
            "6\n",
            "8\n",
            "10\n",
            "12\n",
            "14\n",
            "16\n",
            "18\n",
            "20\n",
            "22\n",
            "24\n",
            "26\n",
            "28\n",
            "30\n",
            "32\n",
            "34\n",
            "36\n",
            "38\n"
          ]
        }
      ],
      "source": [
        "def main():\n",
        "  for i in range(20):\n",
        "    print(i*2) # Indented this line by 4 spaces\n",
        "\n",
        "if __name__==\"__main__\":\n",
        "  main()"
      ]
    },
    {
      "cell_type": "markdown",
      "metadata": {
        "id": "7S2XxYMhrQD0"
      },
      "source": [
        "#03_wholesome_machine"
      ]
    },
    {
      "cell_type": "code",
      "execution_count": null,
      "metadata": {
        "colab": {
          "background_save": true,
          "base_uri": "https://localhost:8080/"
        },
        "id": "YIAg5IvwrU_6",
        "outputId": "e698f836-c26a-4b44-abf6-9fcd36892f53"
      },
      "outputs": [
        {
          "name": "stdout",
          "output_type": "stream",
          "text": [
            "welcome to the wholesome machine\n",
            "That's was not the affermation. please try again\n",
            "That's was not the affermation. please try again\n"
          ]
        }
      ],
      "source": [
        "correct_affermation = \"I am capable of doing anything\"\n",
        "\n",
        "def main():\n",
        "  print(\"welcome to the wholesome machine\")\n",
        "  while True:\n",
        "    userinput = input(\"please type the following affermation:\" + correct_affermation)\n",
        "correct_affermation = \"I am capable of doing anything\"\n",
        "\n",
        "def main():\n",
        "  print(\"welcome to the wholesome machine\")\n",
        "  while True:\n",
        "    userinput = input(\"please type the following affermation:\" + correct_affermation)\n",
        "    if userinput == correct_affermation:\n",
        "      print(\"That\\'s right!\")\n",
        "    else:\n",
        "      print(\"That\\'s was not the affermation. please try again\")\n",
        "\n",
        "if __name__==\"__main__\":\n",
        "  main()\n"
      ]
    },
    {
      "cell_type": "markdown",
      "metadata": {
        "id": "fgrLHLDNtbuc"
      },
      "source": [
        "#04_liftoff"
      ]
    },
    {
      "source": [
        "def main():\n",
        "  for i in range(10,0,-1):\n",
        "    print(i,end=\"\")\n",
        "    print(\"liftoff\")\n",
        "\n",
        "if __name__ == \"__main__\": # Removed extra space before if and corrected indentation\n",
        "  main()"
      ],
      "cell_type": "code",
      "metadata": {
        "colab": {
          "base_uri": "https://localhost:8080/"
        },
        "id": "ZJ99QhFnaq1h",
        "outputId": "c4354df5-4e21-4974-9eac-e38594cd59d4"
      },
      "execution_count": 3,
      "outputs": [
        {
          "output_type": "stream",
          "name": "stdout",
          "text": [
            "10liftoff\n",
            "9liftoff\n",
            "8liftoff\n",
            "7liftoff\n",
            "6liftoff\n",
            "5liftoff\n",
            "4liftoff\n",
            "3liftoff\n",
            "2liftoff\n",
            "1liftoff\n"
          ]
        }
      ]
    },
    {
      "cell_type": "markdown",
      "source": [
        "#05_double_it"
      ],
      "metadata": {
        "id": "GtmhjL3SasoT"
      }
    },
    {
      "cell_type": "code",
      "source": [
        "\n",
        "def main():\n",
        "  user_value = int(input(\"Enter a number: \"))\n",
        "  while user_value < 100:\n",
        "    user_value = user_value * 2\n",
        "    print(user_value)\n",
        "\n",
        "if __name__==\"__main__\":\n",
        "  main()"
      ],
      "metadata": {
        "colab": {
          "base_uri": "https://localhost:8080/"
        },
        "id": "sNkkhaA_a4RD",
        "outputId": "c8944943-b73f-4f63-ec66-625847436285"
      },
      "execution_count": 6,
      "outputs": [
        {
          "output_type": "stream",
          "name": "stdout",
          "text": [
            "Enter a number: 7\n",
            "14\n",
            "28\n",
            "56\n",
            "112\n"
          ]
        }
      ]
    }
  ],
  "metadata": {
    "colab": {
      "provenance": [],
      "authorship_tag": "ABX9TyOSzbdL4HMnBj2cg2cv17h7",
      "include_colab_link": true
    },
    "kernelspec": {
      "display_name": "Python 3",
      "name": "python3"
    },
    "language_info": {
      "name": "python"
    }
  },
  "nbformat": 4,
  "nbformat_minor": 0
}