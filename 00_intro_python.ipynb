{
  "nbformat": 4,
  "nbformat_minor": 0,
  "metadata": {
    "colab": {
      "provenance": [],
      "authorship_tag": "ABX9TyM3G58W6DJmq/T6I8Z7+4Bt",
      "include_colab_link": true
    },
    "kernelspec": {
      "name": "python3",
      "display_name": "Python 3"
    },
    "language_info": {
      "name": "python"
    }
  },
  "cells": [
    {
      "cell_type": "markdown",
      "metadata": {
        "id": "view-in-github",
        "colab_type": "text"
      },
      "source": [
        "<a href=\"https://colab.research.google.com/github/Sheeza1304/Assignment_4/blob/main/00_intro_python.ipynb\" target=\"_parent\"><img src=\"https://colab.research.google.com/assets/colab-badge.svg\" alt=\"Open In Colab\"/></a>"
      ]
    },
    {
      "cell_type": "markdown",
      "source": [
        "# Add two numbers"
      ],
      "metadata": {
        "id": "06t_zYyY-b-0"
      }
    },
    {
      "cell_type": "markdown",
      "source": [],
      "metadata": {
        "id": "FZ_HRlpbHGKx"
      }
    },
    {
      "cell_type": "code",
      "source": [
        "def add():\n",
        "  first_number = int(input(\"Enter your first number\"))\n",
        "  second_number = int(input(\"Enter your second number\"))\n",
        "def add():\n",
        "  first_number = int(input(\"Enter your first number\"))\n",
        "  second_number = int(input(\"Enter your second number\"))\n",
        "  total = first_number + second_number\n",
        "  print(\"total\")\n",
        "\n",
        "if __name__ == \"__main__\":\n",
        "    add()\n"
      ],
      "metadata": {
        "id": "069T2ihU-gvY"
      },
      "execution_count": null,
      "outputs": []
    },
    {
      "cell_type": "markdown",
      "source": [
        "# Agreement_bot\n"
      ],
      "metadata": {
        "id": "iA7MzUHL_-OM"
      }
    },
    {
      "cell_type": "code",
      "source": [
        "def animal():\n",
        "  favourit_animal = (input(\"what is your favourit animal?\"))\n",
        "  print(f\"My favourit animal is {animal}\")\n",
        "if __name__ ==\"__main__\":\n",
        "  animal()"
      ],
      "metadata": {
        "colab": {
          "base_uri": "https://localhost:8080/"
        },
        "id": "WQ9vhXAEALR-",
        "outputId": "3aa06b06-74e0-4c49-fd8a-bbdc5681718c"
      },
      "execution_count": null,
      "outputs": [
        {
          "output_type": "stream",
          "name": "stdout",
          "text": [
            "what is your favourit animal?cow\n",
            "My favourit animal is <function animal at 0x7810037c77e0>\n"
          ]
        }
      ]
    },
    {
      "cell_type": "markdown",
      "source": [
        "# Fahrenheit to celsius"
      ],
      "metadata": {
        "id": "_V2ldL1NBgZW"
      }
    },
    {
      "cell_type": "code",
      "source": [
        "def Temperature():\n",
        "  fahrenheit = float(input(\"Enter the temperature in fahrenheit\"))\n",
        "def Temperature():\n",
        "  fahrenheit = float(input(\"Enter the temperature in fahrenheit\"))\n",
        "  celsius = (fahrenheit - 32) *5.0/9.0\n",
        "  print(f\"conversion of {fahrenheit}F to {celsius:.2f}C\")\n",
        "if __name__ == \"__main__\":\n",
        "  Temperature()\n"
      ],
      "metadata": {
        "colab": {
          "base_uri": "https://localhost:8080/"
        },
        "id": "sBIJxDY1BvR3",
        "outputId": "336ae5d0-3c74-4133-c2a3-cc266d310f38"
      },
      "execution_count": null,
      "outputs": [
        {
          "output_type": "stream",
          "name": "stdout",
          "text": [
            "Enter the temperature in fahrenheit7\n",
            "conversion of 7.0F to -13.89C\n"
          ]
        }
      ]
    },
    {
      "cell_type": "markdown",
      "source": [
        "# how old are they"
      ],
      "metadata": {
        "id": "nZ8vcqosDZbI"
      }
    },
    {
      "cell_type": "code",
      "source": [
        "def age():\n",
        "  anton : int = 21\n",
        "  beth : int = 6 + anton\n",
        "  chen : int = 20 + beth\n",
        "  drew : int = chen + anton\n",
        "  enthan : int = chen\n",
        "\n",
        "  print(\"anton is\" + str(anton))\n",
        "  print(\"beth is\" + str(beth))\n",
        "  print(\"chen is\" + str(chen))\n",
        "  print(\"drew is\" + str(drew))\n",
        "  print(\"enthan is\" + str(enthan))\n",
        "if __name__ == \"__main__\":\n",
        "  age()\n"
      ],
      "metadata": {
        "colab": {
          "base_uri": "https://localhost:8080/"
        },
        "id": "iAbdlcU8DgWm",
        "outputId": "85a57979-bf60-4908-903f-df91b9630e3c"
      },
      "execution_count": null,
      "outputs": [
        {
          "output_type": "stream",
          "name": "stdout",
          "text": [
            "anton is21\n",
            "beth is27\n",
            "chen is47\n",
            "drew is68\n",
            "enthan is47\n"
          ]
        }
      ]
    },
    {
      "cell_type": "markdown",
      "source": [
        "# Triangle perimeter"
      ],
      "metadata": {
        "id": "cN-gu5ihFQhb"
      }
    },
    {
      "cell_type": "code",
      "source": [
        "def length():\n",
        "  side1 : float = float(input(\"Enter the length of side1\"))\n",
        "  side2 : float = float(input(\"Enter the length of side2\"))\n",
        "  side3 : float = float(input(\"Enter the length of side3\"))\n",
        "  perimeter : float = side1 + side2 + side3\n",
        "  print(f\"The perimeter of the triangle {perimeter:.2f}\")\n",
        "  if __name__ == \"__main__\":\n",
        "    length()"
      ],
      "metadata": {
        "id": "pKMnKyFnFVhw"
      },
      "execution_count": null,
      "outputs": []
    },
    {
      "cell_type": "markdown",
      "source": [
        "# square problem"
      ],
      "metadata": {
        "id": "Lpixq32jHIH7"
      }
    },
    {
      "cell_type": "code",
      "source": [
        "def square():\n",
        "  num = float(input(\"Enter a number to see its square: \"))\n",
        "def square():\n",
        "  num = float(input(\"Enter a number to see its square: \"))\n",
        "  square = num * num\n",
        "  print(f\"The sum of {num} and {num} is {square}\")\n",
        "\n",
        "if __name__ == \"__main__\":\n",
        "    square()\n"
      ],
      "metadata": {
        "colab": {
          "base_uri": "https://localhost:8080/"
        },
        "id": "tL7drKIDHNrC",
        "outputId": "ce12a025-cf54-4376-aae2-1aed9cce1bf9"
      },
      "execution_count": null,
      "outputs": [
        {
          "output_type": "stream",
          "name": "stdout",
          "text": [
            "Enter a number to see its square: 6\n",
            "The sum of 6.0 and 6.0 is 36.0\n"
          ]
        }
      ]
    }
  ]
}