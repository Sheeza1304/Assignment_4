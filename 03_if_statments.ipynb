{
  "nbformat": 4,
  "nbformat_minor": 0,
  "metadata": {
    "colab": {
      "provenance": [],
      "authorship_tag": "ABX9TyMp+QFoREdzSE00wF4YH/U5",
      "include_colab_link": true
    },
    "kernelspec": {
      "name": "python3",
      "display_name": "Python 3"
    },
    "language_info": {
      "name": "python"
    }
  },
  "cells": [
    {
      "cell_type": "markdown",
      "metadata": {
        "id": "view-in-github",
        "colab_type": "text"
      },
      "source": [
        "<a href=\"https://colab.research.google.com/github/Sheeza1304/Assignment_4/blob/main/03_if_statments.ipynb\" target=\"_parent\"><img src=\"https://colab.research.google.com/assets/colab-badge.svg\" alt=\"Open In Colab\"/></a>"
      ]
    },
    {
      "cell_type": "code",
      "execution_count": null,
      "metadata": {
        "id": "k3IYdEpkCkkt"
      },
      "outputs": [],
      "source": [
        "#01_print_events"
      ]
    },
    {
      "cell_type": "code",
      "source": [
        "def even():\n",
        "  for i in range(40):\n",
        "    even = i * 2\n",
        "    print(even)\n",
        "  print(\"Here is 20 even numbers\")\n",
        "\n",
        "if __name__ == \"__main__\":\n",
        "  even()"
      ],
      "metadata": {
        "colab": {
          "base_uri": "https://localhost:8080/"
        },
        "id": "NLd_NZRfDIwz",
        "outputId": "30349682-80de-4223-a806-b3fff3cd12cb"
      },
      "execution_count": 3,
      "outputs": [
        {
          "output_type": "stream",
          "name": "stdout",
          "text": [
            "0\n",
            "2\n",
            "4\n",
            "6\n",
            "8\n",
            "10\n",
            "12\n",
            "14\n",
            "16\n",
            "18\n",
            "20\n",
            "22\n",
            "24\n",
            "26\n",
            "28\n",
            "30\n",
            "32\n",
            "34\n",
            "36\n",
            "38\n",
            "40\n",
            "42\n",
            "44\n",
            "46\n",
            "48\n",
            "50\n",
            "52\n",
            "54\n",
            "56\n",
            "58\n",
            "60\n",
            "62\n",
            "64\n",
            "66\n",
            "68\n",
            "70\n",
            "72\n",
            "74\n",
            "76\n",
            "78\n",
            "Here is 20 even numbers\n"
          ]
        }
      ]
    },
    {
      "cell_type": "markdown",
      "source": [
        "#03_international_voting_age"
      ],
      "metadata": {
        "id": "h7YNbYQUEE4I"
      }
    },
    {
      "cell_type": "code",
      "source": [
        "peturksbouipo:int = 16\n",
        "stanlau:int = 25\n",
        "mayengua:int = 48\n",
        "\n",
        "def main():\n",
        "  age:int = int(input(\"How old are you?\"))\n",
        "peturksbouipo:int = 16\n",
        "stanlau:int = 25\n",
        "mayengua:int = 48\n",
        "\n",
        "def main():\n",
        "  age:int = int(input(\"How old are you\"))\n",
        "  if age >= peturksbouipo:\n",
        "    print(f\"your age is {age}.You are eligible to vote in peturksbouipo\")\n",
        "  elif age >= stanlau:\n",
        "    print(f\" your age is {age}.You are eligible to vote in stanlau\")\n",
        "  elif age >= mayengua:\n",
        "    print(f\" your age is {age}.You are eligible to vote in mayengua\")\n",
        "  else:\n",
        "    print(\"You are not eligible to vote\")\n",
        "\n",
        "if __name__ == \"__main__\":\n",
        "  main()\n",
        ""
      ],
      "metadata": {
        "colab": {
          "base_uri": "https://localhost:8080/"
        },
        "id": "XdK1GuJvEMs-",
        "outputId": "b73d5c9c-07b7-4e53-ef62-4df7ff6f1506"
      },
      "execution_count": 8,
      "outputs": [
        {
          "output_type": "stream",
          "name": "stdout",
          "text": [
            "How old are you25\n",
            "your age is 25.You are eligible to vote in peturksbouipo\n"
          ]
        }
      ]
    },
    {
      "cell_type": "markdown",
      "source": [],
      "metadata": {
        "id": "KTBEF_2IC71S"
      }
    },
    {
      "cell_type": "markdown",
      "source": [
        "#03_leap_year"
      ],
      "metadata": {
        "id": "ZCuOfPhwH90X"
      }
    },
    {
      "source": [
        "def leap_year():\n",
        "  year:int = int(input(\"Enter a year\"))\n",
        "  if year % 4 == 0:\n",
        "    if year % 100 == 0:\n",
        "      if year % 400 == 0:\n",
        "        print(f\"{year} is a leap year.\")\n",
        "      else:\n",
        "        print(f\"{year} is not a leap year.\")\n",
        "    else:\n",
        "      print(f\"{year} is a leap year.\")\n",
        "  else:\n",
        "    print(f\"{year} is not a leap year.\")\n",
        "\n",
        "if __name__ == \"__main__\":\n",
        "  leap_year()"
      ],
      "cell_type": "code",
      "metadata": {
        "colab": {
          "base_uri": "https://localhost:8080/"
        },
        "id": "MbojPlNLKyGg",
        "outputId": "fd779f0a-a921-4667-e550-3fce8e98bf6d"
      },
      "execution_count": 12,
      "outputs": [
        {
          "output_type": "stream",
          "name": "stdout",
          "text": [
            "Enter a year14\n",
            "14 is not a leap year.\n"
          ]
        }
      ]
    },
    {
      "cell_type": "markdown",
      "source": [
        "#04_tall_enough"
      ],
      "metadata": {
        "id": "s8BadMSsLGi4"
      }
    },
    {
      "cell_type": "code",
      "source": [
        "min_height:int =50\n",
        "def main():\n",
        "  user:int = int(input(\"How tall are you?\"))\n",
        "  if user >= min_height:\n",
        "    print(\"You are tall enough to ride\")\n",
        "min_height:int =50\n",
        "def main():\n",
        "  user:int = int(input(\"How tall are you?\"))\n",
        "  if user >= min_height:\n",
        "    print(\"You are tall enough to ride\")\n",
        "  else:\n",
        "    print(\"You are not tall enough to ride\")\n",
        "if __name__ == \"__main__\":\n",
        "  main()"
      ],
      "metadata": {
        "colab": {
          "base_uri": "https://localhost:8080/"
        },
        "id": "9U9buPbSLQfg",
        "outputId": "dc81d31e-b38f-4a1c-8530-a50c6d712e1c"
      },
      "execution_count": 14,
      "outputs": [
        {
          "output_type": "stream",
          "name": "stdout",
          "text": [
            "How tall are you?60\n",
            "You are tall enough to ride\n"
          ]
        }
      ]
    },
    {
      "cell_type": "markdown",
      "source": [
        "#05_random_number"
      ],
      "metadata": {
        "id": "87JA726_Mz0M"
      }
    },
    {
      "cell_type": "code",
      "source": [
        "import random\n",
        "\n",
        "def main():\n",
        "  for i in range(10):\n",
        "    num:list[int] = random.randint(1,10)\n",
        "import random\n",
        "\n",
        "def main():\n",
        "  for i in range(10):\n",
        "    num = random.randint(1,10)\n",
        "    print(num)\n",
        "\n",
        "if __name__ == \"__main__\":\n",
        "  main()"
      ],
      "metadata": {
        "colab": {
          "base_uri": "https://localhost:8080/"
        },
        "id": "_6i8Qx4TM9cE",
        "outputId": "58e7a55c-a561-486f-eaaa-9361ff40a74f"
      },
      "execution_count": 16,
      "outputs": [
        {
          "output_type": "stream",
          "name": "stdout",
          "text": [
            "10\n",
            "4\n",
            "10\n",
            "10\n",
            "1\n",
            "6\n",
            "1\n",
            "7\n",
            "10\n",
            "6\n"
          ]
        }
      ]
    },
    {
      "cell_type": "markdown",
      "source": [],
      "metadata": {
        "id": "jIsxIuVPK0XF"
      }
    }
  ]
}